{
 "cells": [
  {
   "cell_type": "code",
   "execution_count": 128,
   "id": "77e257c1",
   "metadata": {},
   "outputs": [],
   "source": [
    "import pandas as pd\n",
    "import matplotlib.pyplot as plt\n",
    "import seaborn as sns\n",
    "%matplotlib inline"
   ]
  },
  {
   "cell_type": "code",
   "execution_count": 2,
   "id": "84e15137",
   "metadata": {},
   "outputs": [],
   "source": [
    "df=pd.read_excel(r\"C:\\Users\\riyaz\\Downloads\\C_Dataset_sample (2).xlsx\")"
   ]
  },
  {
   "cell_type": "code",
   "execution_count": 3,
   "id": "c176a4d0",
   "metadata": {},
   "outputs": [
    {
     "data": {
      "text/html": [
       "<div>\n",
       "<style scoped>\n",
       "    .dataframe tbody tr th:only-of-type {\n",
       "        vertical-align: middle;\n",
       "    }\n",
       "\n",
       "    .dataframe tbody tr th {\n",
       "        vertical-align: top;\n",
       "    }\n",
       "\n",
       "    .dataframe thead th {\n",
       "        text-align: right;\n",
       "    }\n",
       "</style>\n",
       "<table border=\"1\" class=\"dataframe\">\n",
       "  <thead>\n",
       "    <tr style=\"text-align: right;\">\n",
       "      <th></th>\n",
       "      <th>Order_id</th>\n",
       "      <th>cafu_truck_id</th>\n",
       "      <th>Job_date</th>\n",
       "      <th>hourly_slot</th>\n",
       "      <th>fuel_id</th>\n",
       "      <th>vehicle_type_id</th>\n",
       "      <th>vehicle_brand_id</th>\n",
       "      <th>vehicle_model_id</th>\n",
       "      <th>litres_sold</th>\n",
       "      <th>amount_charged</th>\n",
       "      <th>minutes_late</th>\n",
       "      <th>Vehicle Type</th>\n",
       "      <th>Model</th>\n",
       "      <th>Brand</th>\n",
       "    </tr>\n",
       "  </thead>\n",
       "  <tbody>\n",
       "    <tr>\n",
       "      <th>0</th>\n",
       "      <td>1003508625</td>\n",
       "      <td>19</td>\n",
       "      <td>2020-03-31</td>\n",
       "      <td>00:00 - 01:00</td>\n",
       "      <td>2</td>\n",
       "      <td>1</td>\n",
       "      <td>4</td>\n",
       "      <td>44.0</td>\n",
       "      <td>127.10</td>\n",
       "      <td>185.632977</td>\n",
       "      <td>0.00</td>\n",
       "      <td>Car</td>\n",
       "      <td>Q3</td>\n",
       "      <td>Audi</td>\n",
       "    </tr>\n",
       "    <tr>\n",
       "      <th>1</th>\n",
       "      <td>1003508626</td>\n",
       "      <td>32</td>\n",
       "      <td>2020-03-31</td>\n",
       "      <td>00:00 - 01:00</td>\n",
       "      <td>2</td>\n",
       "      <td>1</td>\n",
       "      <td>42</td>\n",
       "      <td>422.0</td>\n",
       "      <td>81.67</td>\n",
       "      <td>119.270473</td>\n",
       "      <td>0.00</td>\n",
       "      <td>Car</td>\n",
       "      <td>Wrangler Unlimited</td>\n",
       "      <td>Jeep</td>\n",
       "    </tr>\n",
       "    <tr>\n",
       "      <th>2</th>\n",
       "      <td>1003508627</td>\n",
       "      <td>24</td>\n",
       "      <td>2020-03-31</td>\n",
       "      <td>00:00 - 01:00</td>\n",
       "      <td>2</td>\n",
       "      <td>1</td>\n",
       "      <td>57</td>\n",
       "      <td>522.0</td>\n",
       "      <td>64.23</td>\n",
       "      <td>70.538414</td>\n",
       "      <td>0.00</td>\n",
       "      <td>Car</td>\n",
       "      <td>CX-9</td>\n",
       "      <td>Mazda</td>\n",
       "    </tr>\n",
       "    <tr>\n",
       "      <th>3</th>\n",
       "      <td>1003508628</td>\n",
       "      <td>6</td>\n",
       "      <td>2020-03-31</td>\n",
       "      <td>00:00 - 01:00</td>\n",
       "      <td>2</td>\n",
       "      <td>1</td>\n",
       "      <td>7</td>\n",
       "      <td>103.0</td>\n",
       "      <td>135.54</td>\n",
       "      <td>197.774878</td>\n",
       "      <td>75.88</td>\n",
       "      <td>Car</td>\n",
       "      <td>X1</td>\n",
       "      <td>BMW</td>\n",
       "    </tr>\n",
       "    <tr>\n",
       "      <th>4</th>\n",
       "      <td>1003508629</td>\n",
       "      <td>4</td>\n",
       "      <td>2020-03-31</td>\n",
       "      <td>00:00 - 01:00</td>\n",
       "      <td>2</td>\n",
       "      <td>1</td>\n",
       "      <td>7</td>\n",
       "      <td>106.0</td>\n",
       "      <td>114.51</td>\n",
       "      <td>174.338893</td>\n",
       "      <td>42.00</td>\n",
       "      <td>Car</td>\n",
       "      <td>X5</td>\n",
       "      <td>BMW</td>\n",
       "    </tr>\n",
       "  </tbody>\n",
       "</table>\n",
       "</div>"
      ],
      "text/plain": [
       "     Order_id  cafu_truck_id   Job_date    hourly_slot  fuel_id  \\\n",
       "0  1003508625             19 2020-03-31  00:00 - 01:00        2   \n",
       "1  1003508626             32 2020-03-31  00:00 - 01:00        2   \n",
       "2  1003508627             24 2020-03-31  00:00 - 01:00        2   \n",
       "3  1003508628              6 2020-03-31  00:00 - 01:00        2   \n",
       "4  1003508629              4 2020-03-31  00:00 - 01:00        2   \n",
       "\n",
       "   vehicle_type_id  vehicle_brand_id  vehicle_model_id  litres_sold  \\\n",
       "0                1                 4              44.0       127.10   \n",
       "1                1                42             422.0        81.67   \n",
       "2                1                57             522.0        64.23   \n",
       "3                1                 7             103.0       135.54   \n",
       "4                1                 7             106.0       114.51   \n",
       "\n",
       "   amount_charged  minutes_late Vehicle Type               Model  Brand  \n",
       "0      185.632977          0.00          Car                  Q3   Audi  \n",
       "1      119.270473          0.00          Car  Wrangler Unlimited   Jeep  \n",
       "2       70.538414          0.00          Car                CX-9  Mazda  \n",
       "3      197.774878         75.88          Car                  X1    BMW  \n",
       "4      174.338893         42.00          Car                  X5    BMW  "
      ]
     },
     "execution_count": 3,
     "metadata": {},
     "output_type": "execute_result"
    }
   ],
   "source": [
    "df.head()"
   ]
  },
  {
   "cell_type": "code",
   "execution_count": 4,
   "id": "840a18fa",
   "metadata": {},
   "outputs": [
    {
     "data": {
      "text/plain": [
       "(81068, 14)"
      ]
     },
     "execution_count": 4,
     "metadata": {},
     "output_type": "execute_result"
    }
   ],
   "source": [
    "df.shape"
   ]
  },
  {
   "cell_type": "code",
   "execution_count": 5,
   "id": "9dce74dc",
   "metadata": {},
   "outputs": [
    {
     "name": "stdout",
     "output_type": "stream",
     "text": [
      "<class 'pandas.core.frame.DataFrame'>\n",
      "RangeIndex: 81068 entries, 0 to 81067\n",
      "Data columns (total 14 columns):\n",
      " #   Column            Non-Null Count  Dtype         \n",
      "---  ------            --------------  -----         \n",
      " 0   Order_id          81068 non-null  int64         \n",
      " 1   cafu_truck_id     81068 non-null  int64         \n",
      " 2   Job_date          81068 non-null  datetime64[ns]\n",
      " 3   hourly_slot       81068 non-null  object        \n",
      " 4   fuel_id           81068 non-null  int64         \n",
      " 5   vehicle_type_id   81068 non-null  int64         \n",
      " 6   vehicle_brand_id  81068 non-null  int64         \n",
      " 7   vehicle_model_id  80118 non-null  float64       \n",
      " 8   litres_sold       81068 non-null  float64       \n",
      " 9   amount_charged    81068 non-null  float64       \n",
      " 10  minutes_late      81068 non-null  float64       \n",
      " 11  Vehicle Type      81068 non-null  object        \n",
      " 12   Model            80118 non-null  object        \n",
      " 13  Brand             81068 non-null  object        \n",
      "dtypes: datetime64[ns](1), float64(4), int64(5), object(4)\n",
      "memory usage: 8.7+ MB\n"
     ]
    }
   ],
   "source": [
    "df.info()"
   ]
  },
  {
   "cell_type": "code",
   "execution_count": 6,
   "id": "194e0ad4",
   "metadata": {},
   "outputs": [
    {
     "data": {
      "text/html": [
       "<div>\n",
       "<style scoped>\n",
       "    .dataframe tbody tr th:only-of-type {\n",
       "        vertical-align: middle;\n",
       "    }\n",
       "\n",
       "    .dataframe tbody tr th {\n",
       "        vertical-align: top;\n",
       "    }\n",
       "\n",
       "    .dataframe thead th {\n",
       "        text-align: right;\n",
       "    }\n",
       "</style>\n",
       "<table border=\"1\" class=\"dataframe\">\n",
       "  <thead>\n",
       "    <tr style=\"text-align: right;\">\n",
       "      <th></th>\n",
       "      <th>Order_id</th>\n",
       "      <th>cafu_truck_id</th>\n",
       "      <th>fuel_id</th>\n",
       "      <th>vehicle_type_id</th>\n",
       "      <th>vehicle_brand_id</th>\n",
       "      <th>vehicle_model_id</th>\n",
       "      <th>litres_sold</th>\n",
       "      <th>amount_charged</th>\n",
       "      <th>minutes_late</th>\n",
       "    </tr>\n",
       "  </thead>\n",
       "  <tbody>\n",
       "    <tr>\n",
       "      <th>count</th>\n",
       "      <td>8.106800e+04</td>\n",
       "      <td>81068.000000</td>\n",
       "      <td>81068.000000</td>\n",
       "      <td>81068.000000</td>\n",
       "      <td>81068.000000</td>\n",
       "      <td>80118.000000</td>\n",
       "      <td>81068.000000</td>\n",
       "      <td>81068.000000</td>\n",
       "      <td>81068.000000</td>\n",
       "    </tr>\n",
       "    <tr>\n",
       "      <th>mean</th>\n",
       "      <td>1.003500e+09</td>\n",
       "      <td>26.616988</td>\n",
       "      <td>1.647333</td>\n",
       "      <td>1.019243</td>\n",
       "      <td>101.787709</td>\n",
       "      <td>484.528321</td>\n",
       "      <td>125.800334</td>\n",
       "      <td>197.064567</td>\n",
       "      <td>3.552731</td>\n",
       "    </tr>\n",
       "    <tr>\n",
       "      <th>std</th>\n",
       "      <td>2.340246e+04</td>\n",
       "      <td>13.996099</td>\n",
       "      <td>0.496043</td>\n",
       "      <td>0.177217</td>\n",
       "      <td>463.605560</td>\n",
       "      <td>271.267176</td>\n",
       "      <td>49.353990</td>\n",
       "      <td>90.614877</td>\n",
       "      <td>12.696197</td>\n",
       "    </tr>\n",
       "    <tr>\n",
       "      <th>min</th>\n",
       "      <td>1.003459e+09</td>\n",
       "      <td>1.000000</td>\n",
       "      <td>1.000000</td>\n",
       "      <td>1.000000</td>\n",
       "      <td>1.000000</td>\n",
       "      <td>2.000000</td>\n",
       "      <td>4.690000</td>\n",
       "      <td>0.394704</td>\n",
       "      <td>0.000000</td>\n",
       "    </tr>\n",
       "    <tr>\n",
       "      <th>25%</th>\n",
       "      <td>1.003479e+09</td>\n",
       "      <td>15.000000</td>\n",
       "      <td>1.000000</td>\n",
       "      <td>1.000000</td>\n",
       "      <td>26.000000</td>\n",
       "      <td>276.000000</td>\n",
       "      <td>95.390000</td>\n",
       "      <td>140.182984</td>\n",
       "      <td>0.000000</td>\n",
       "    </tr>\n",
       "    <tr>\n",
       "      <th>50%</th>\n",
       "      <td>1.003500e+09</td>\n",
       "      <td>27.000000</td>\n",
       "      <td>2.000000</td>\n",
       "      <td>1.000000</td>\n",
       "      <td>48.000000</td>\n",
       "      <td>461.000000</td>\n",
       "      <td>122.985000</td>\n",
       "      <td>190.897852</td>\n",
       "      <td>0.000000</td>\n",
       "    </tr>\n",
       "    <tr>\n",
       "      <th>75%</th>\n",
       "      <td>1.003520e+09</td>\n",
       "      <td>39.000000</td>\n",
       "      <td>2.000000</td>\n",
       "      <td>1.000000</td>\n",
       "      <td>65.000000</td>\n",
       "      <td>660.000000</td>\n",
       "      <td>151.170000</td>\n",
       "      <td>244.737875</td>\n",
       "      <td>0.000000</td>\n",
       "    </tr>\n",
       "    <tr>\n",
       "      <th>max</th>\n",
       "      <td>1.003540e+09</td>\n",
       "      <td>50.000000</td>\n",
       "      <td>5.000000</td>\n",
       "      <td>4.000000</td>\n",
       "      <td>4152.000000</td>\n",
       "      <td>2720.000000</td>\n",
       "      <td>1619.640000</td>\n",
       "      <td>2897.435010</td>\n",
       "      <td>164.200000</td>\n",
       "    </tr>\n",
       "  </tbody>\n",
       "</table>\n",
       "</div>"
      ],
      "text/plain": [
       "           Order_id  cafu_truck_id       fuel_id  vehicle_type_id  \\\n",
       "count  8.106800e+04   81068.000000  81068.000000     81068.000000   \n",
       "mean   1.003500e+09      26.616988      1.647333         1.019243   \n",
       "std    2.340246e+04      13.996099      0.496043         0.177217   \n",
       "min    1.003459e+09       1.000000      1.000000         1.000000   \n",
       "25%    1.003479e+09      15.000000      1.000000         1.000000   \n",
       "50%    1.003500e+09      27.000000      2.000000         1.000000   \n",
       "75%    1.003520e+09      39.000000      2.000000         1.000000   \n",
       "max    1.003540e+09      50.000000      5.000000         4.000000   \n",
       "\n",
       "       vehicle_brand_id  vehicle_model_id   litres_sold  amount_charged  \\\n",
       "count      81068.000000      80118.000000  81068.000000    81068.000000   \n",
       "mean         101.787709        484.528321    125.800334      197.064567   \n",
       "std          463.605560        271.267176     49.353990       90.614877   \n",
       "min            1.000000          2.000000      4.690000        0.394704   \n",
       "25%           26.000000        276.000000     95.390000      140.182984   \n",
       "50%           48.000000        461.000000    122.985000      190.897852   \n",
       "75%           65.000000        660.000000    151.170000      244.737875   \n",
       "max         4152.000000       2720.000000   1619.640000     2897.435010   \n",
       "\n",
       "       minutes_late  \n",
       "count  81068.000000  \n",
       "mean       3.552731  \n",
       "std       12.696197  \n",
       "min        0.000000  \n",
       "25%        0.000000  \n",
       "50%        0.000000  \n",
       "75%        0.000000  \n",
       "max      164.200000  "
      ]
     },
     "execution_count": 6,
     "metadata": {},
     "output_type": "execute_result"
    }
   ],
   "source": [
    "df.describe()"
   ]
  },
  {
   "cell_type": "code",
   "execution_count": 7,
   "id": "98846697",
   "metadata": {},
   "outputs": [
    {
     "data": {
      "text/html": [
       "<div>\n",
       "<style scoped>\n",
       "    .dataframe tbody tr th:only-of-type {\n",
       "        vertical-align: middle;\n",
       "    }\n",
       "\n",
       "    .dataframe tbody tr th {\n",
       "        vertical-align: top;\n",
       "    }\n",
       "\n",
       "    .dataframe thead th {\n",
       "        text-align: right;\n",
       "    }\n",
       "</style>\n",
       "<table border=\"1\" class=\"dataframe\">\n",
       "  <thead>\n",
       "    <tr style=\"text-align: right;\">\n",
       "      <th></th>\n",
       "      <th>hourly_slot</th>\n",
       "      <th>Vehicle Type</th>\n",
       "      <th>Model</th>\n",
       "      <th>Brand</th>\n",
       "    </tr>\n",
       "  </thead>\n",
       "  <tbody>\n",
       "    <tr>\n",
       "      <th>count</th>\n",
       "      <td>81068</td>\n",
       "      <td>81068</td>\n",
       "      <td>80118</td>\n",
       "      <td>81068</td>\n",
       "    </tr>\n",
       "    <tr>\n",
       "      <th>unique</th>\n",
       "      <td>24</td>\n",
       "      <td>4</td>\n",
       "      <td>716</td>\n",
       "      <td>91</td>\n",
       "    </tr>\n",
       "    <tr>\n",
       "      <th>top</th>\n",
       "      <td>12:00 - 13:00</td>\n",
       "      <td>Car</td>\n",
       "      <td>Patrol</td>\n",
       "      <td>Ford</td>\n",
       "    </tr>\n",
       "    <tr>\n",
       "      <th>freq</th>\n",
       "      <td>9088</td>\n",
       "      <td>79922</td>\n",
       "      <td>2986</td>\n",
       "      <td>8192</td>\n",
       "    </tr>\n",
       "  </tbody>\n",
       "</table>\n",
       "</div>"
      ],
      "text/plain": [
       "          hourly_slot Vehicle Type   Model  Brand\n",
       "count           81068        81068   80118  81068\n",
       "unique             24            4     716     91\n",
       "top     12:00 - 13:00          Car  Patrol   Ford\n",
       "freq             9088        79922    2986   8192"
      ]
     },
     "execution_count": 7,
     "metadata": {},
     "output_type": "execute_result"
    }
   ],
   "source": [
    "df[df.dtypes[df.dtypes=='object'].index].describe()"
   ]
  },
  {
   "cell_type": "code",
   "execution_count": 8,
   "id": "def944b6",
   "metadata": {},
   "outputs": [
    {
     "data": {
      "text/plain": [
       "Order_id              0\n",
       "cafu_truck_id         0\n",
       "Job_date              0\n",
       "hourly_slot           0\n",
       "fuel_id               0\n",
       "vehicle_type_id       0\n",
       "vehicle_brand_id      0\n",
       "vehicle_model_id    950\n",
       "litres_sold           0\n",
       "amount_charged        0\n",
       "minutes_late          0\n",
       "Vehicle Type          0\n",
       " Model              950\n",
       "Brand                 0\n",
       "dtype: int64"
      ]
     },
     "execution_count": 8,
     "metadata": {},
     "output_type": "execute_result"
    }
   ],
   "source": [
    "df.isnull().sum()"
   ]
  },
  {
   "cell_type": "code",
   "execution_count": 9,
   "id": "e3b98152",
   "metadata": {},
   "outputs": [],
   "source": [
    "df.rename(columns = {'Vehicle Type':'vehicle_type'}, inplace = True)\n",
    "  "
   ]
  },
  {
   "cell_type": "code",
   "execution_count": 10,
   "id": "83be32b8",
   "metadata": {},
   "outputs": [],
   "source": [
    "df1=pd.read_excel(r\"C:\\Users\\riyaz\\Downloads\\C_Dataset_sample (2).xlsx\",sheet_name='Vehicle Type')"
   ]
  },
  {
   "cell_type": "code",
   "execution_count": 11,
   "id": "d7a36c43",
   "metadata": {},
   "outputs": [
    {
     "data": {
      "text/html": [
       "<div>\n",
       "<style scoped>\n",
       "    .dataframe tbody tr th:only-of-type {\n",
       "        vertical-align: middle;\n",
       "    }\n",
       "\n",
       "    .dataframe tbody tr th {\n",
       "        vertical-align: top;\n",
       "    }\n",
       "\n",
       "    .dataframe thead th {\n",
       "        text-align: right;\n",
       "    }\n",
       "</style>\n",
       "<table border=\"1\" class=\"dataframe\">\n",
       "  <thead>\n",
       "    <tr style=\"text-align: right;\">\n",
       "      <th></th>\n",
       "      <th>vehicle_type_id</th>\n",
       "      <th>name</th>\n",
       "    </tr>\n",
       "  </thead>\n",
       "  <tbody>\n",
       "    <tr>\n",
       "      <th>0</th>\n",
       "      <td>1</td>\n",
       "      <td>Car</td>\n",
       "    </tr>\n",
       "    <tr>\n",
       "      <th>1</th>\n",
       "      <td>2</td>\n",
       "      <td>Boat</td>\n",
       "    </tr>\n",
       "    <tr>\n",
       "      <th>2</th>\n",
       "      <td>3</td>\n",
       "      <td>MotorBike</td>\n",
       "    </tr>\n",
       "    <tr>\n",
       "      <th>3</th>\n",
       "      <td>4</td>\n",
       "      <td>Other</td>\n",
       "    </tr>\n",
       "  </tbody>\n",
       "</table>\n",
       "</div>"
      ],
      "text/plain": [
       "   vehicle_type_id       name\n",
       "0                1        Car\n",
       "1                2       Boat\n",
       "2                3  MotorBike\n",
       "3                4      Other"
      ]
     },
     "execution_count": 11,
     "metadata": {},
     "output_type": "execute_result"
    }
   ],
   "source": [
    "df1"
   ]
  },
  {
   "cell_type": "markdown",
   "id": "a67d4af9",
   "metadata": {},
   "source": [
    "# Revenue Analysis by Vehicle type "
   ]
  },
  {
   "cell_type": "code",
   "execution_count": 12,
   "id": "8fef248e",
   "metadata": {},
   "outputs": [],
   "source": [
    "df2=pd.DataFrame(df.groupby('vehicle_type')['amount_charged'].sum())"
   ]
  },
  {
   "cell_type": "code",
   "execution_count": 13,
   "id": "1345321b",
   "metadata": {},
   "outputs": [],
   "source": [
    "df2.reset_index(inplace=True)"
   ]
  },
  {
   "cell_type": "code",
   "execution_count": 14,
   "id": "cf2a96df",
   "metadata": {},
   "outputs": [
    {
     "data": {
      "text/html": [
       "<div>\n",
       "<style scoped>\n",
       "    .dataframe tbody tr th:only-of-type {\n",
       "        vertical-align: middle;\n",
       "    }\n",
       "\n",
       "    .dataframe tbody tr th {\n",
       "        vertical-align: top;\n",
       "    }\n",
       "\n",
       "    .dataframe thead th {\n",
       "        text-align: right;\n",
       "    }\n",
       "</style>\n",
       "<table border=\"1\" class=\"dataframe\">\n",
       "  <thead>\n",
       "    <tr style=\"text-align: right;\">\n",
       "      <th></th>\n",
       "      <th>vehicle_type</th>\n",
       "      <th>amount_charged</th>\n",
       "    </tr>\n",
       "  </thead>\n",
       "  <tbody>\n",
       "    <tr>\n",
       "      <th>0</th>\n",
       "      <td>Boat</td>\n",
       "      <td>4.006655e+05</td>\n",
       "    </tr>\n",
       "    <tr>\n",
       "      <th>1</th>\n",
       "      <td>Car</td>\n",
       "      <td>1.553478e+07</td>\n",
       "    </tr>\n",
       "    <tr>\n",
       "      <th>2</th>\n",
       "      <td>MotorBike</td>\n",
       "      <td>2.537255e+04</td>\n",
       "    </tr>\n",
       "    <tr>\n",
       "      <th>3</th>\n",
       "      <td>Other</td>\n",
       "      <td>1.481232e+04</td>\n",
       "    </tr>\n",
       "  </tbody>\n",
       "</table>\n",
       "</div>"
      ],
      "text/plain": [
       "  vehicle_type  amount_charged\n",
       "0         Boat    4.006655e+05\n",
       "1          Car    1.553478e+07\n",
       "2    MotorBike    2.537255e+04\n",
       "3        Other    1.481232e+04"
      ]
     },
     "execution_count": 14,
     "metadata": {},
     "output_type": "execute_result"
    }
   ],
   "source": [
    "df2"
   ]
  },
  {
   "cell_type": "code",
   "execution_count": 15,
   "id": "e2c33965",
   "metadata": {},
   "outputs": [
    {
     "data": {
      "image/png": "[encoded data removed]",
      "text/plain": [
       "<Figure size 1000x500 with 1 Axes>"
      ]
     },
     "metadata": {},
     "output_type": "display_data"
    }
   ],
   "source": [
    "plt.figure(figsize=(10,5))\n",
    "plt.bar(df2['vehicle_type'],df2['amount_charged'])\n",
    "\n",
    "plt.xlabel('Vehicle Type')\n",
    "plt.ylabel('Amount charged $')\n",
    "plt.title('Revenue analysis by vehicle type')\n",
    "plt.ticklabel_format(style='plain', axis='y')\n",
    "plt.grid()\n",
    "for i, amount in enumerate(df2['amount_charged']):\n",
    "    label = str(int(amount))\n",
    "    plt.text(i, amount, label, ha='center', va='bottom')\n",
    "plt.show()"
   ]
  },
  {
   "cell_type": "markdown",
   "id": "d86d089d",
   "metadata": {},
   "source": [
    "# Revenue analysis by brand "
   ]
  },
  {
   "cell_type": "code",
   "execution_count": 16,
   "id": "5260fb45",
   "metadata": {},
   "outputs": [],
   "source": [
    "df3=pd.DataFrame(df.groupby('Brand')['amount_charged'].sum().sort_values(ascending=False))"
   ]
  },
  {
   "cell_type": "code",
   "execution_count": 17,
   "id": "48d0d057",
   "metadata": {},
   "outputs": [],
   "source": [
    "df3.reset_index(inplace=True)"
   ]
  },
  {
   "cell_type": "code",
   "execution_count": 18,
   "id": "e8f99d44",
   "metadata": {},
   "outputs": [
    {
     "data": {
      "text/html": [
       "<div>\n",
       "<style scoped>\n",
       "    .dataframe tbody tr th:only-of-type {\n",
       "        vertical-align: middle;\n",
       "    }\n",
       "\n",
       "    .dataframe tbody tr th {\n",
       "        vertical-align: top;\n",
       "    }\n",
       "\n",
       "    .dataframe thead th {\n",
       "        text-align: right;\n",
       "    }\n",
       "</style>\n",
       "<table border=\"1\" class=\"dataframe\">\n",
       "  <thead>\n",
       "    <tr style=\"text-align: right;\">\n",
       "      <th></th>\n",
       "      <th>Brand</th>\n",
       "      <th>amount_charged</th>\n",
       "    </tr>\n",
       "  </thead>\n",
       "  <tbody>\n",
       "    <tr>\n",
       "      <th>0</th>\n",
       "      <td>Nissan</td>\n",
       "      <td>1.655122e+06</td>\n",
       "    </tr>\n",
       "    <tr>\n",
       "      <th>1</th>\n",
       "      <td>Ford</td>\n",
       "      <td>1.540322e+06</td>\n",
       "    </tr>\n",
       "    <tr>\n",
       "      <th>2</th>\n",
       "      <td>Toyota</td>\n",
       "      <td>1.440323e+06</td>\n",
       "    </tr>\n",
       "    <tr>\n",
       "      <th>3</th>\n",
       "      <td>Land Rover</td>\n",
       "      <td>1.143064e+06</td>\n",
       "    </tr>\n",
       "    <tr>\n",
       "      <th>4</th>\n",
       "      <td>Mercedes-Benz</td>\n",
       "      <td>9.747310e+05</td>\n",
       "    </tr>\n",
       "    <tr>\n",
       "      <th>...</th>\n",
       "      <td>...</td>\n",
       "      <td>...</td>\n",
       "    </tr>\n",
       "    <tr>\n",
       "      <th>86</th>\n",
       "      <td>Haval</td>\n",
       "      <td>1.537006e+02</td>\n",
       "    </tr>\n",
       "    <tr>\n",
       "      <th>87</th>\n",
       "      <td>INDIAN</td>\n",
       "      <td>1.377186e+02</td>\n",
       "    </tr>\n",
       "    <tr>\n",
       "      <th>88</th>\n",
       "      <td>ARCTIC CAT</td>\n",
       "      <td>1.181488e+02</td>\n",
       "    </tr>\n",
       "    <tr>\n",
       "      <th>89</th>\n",
       "      <td>BAJAJ</td>\n",
       "      <td>1.107825e+02</td>\n",
       "    </tr>\n",
       "    <tr>\n",
       "      <th>90</th>\n",
       "      <td>Fisker</td>\n",
       "      <td>7.782582e+01</td>\n",
       "    </tr>\n",
       "  </tbody>\n",
       "</table>\n",
       "<p>91 rows × 2 columns</p>\n",
       "</div>"
      ],
      "text/plain": [
       "            Brand  amount_charged\n",
       "0          Nissan    1.655122e+06\n",
       "1            Ford    1.540322e+06\n",
       "2          Toyota    1.440323e+06\n",
       "3      Land Rover    1.143064e+06\n",
       "4   Mercedes-Benz    9.747310e+05\n",
       "..            ...             ...\n",
       "86          Haval    1.537006e+02\n",
       "87         INDIAN    1.377186e+02\n",
       "88     ARCTIC CAT    1.181488e+02\n",
       "89          BAJAJ    1.107825e+02\n",
       "90         Fisker    7.782582e+01\n",
       "\n",
       "[91 rows x 2 columns]"
      ]
     },
     "execution_count": 18,
     "metadata": {},
     "output_type": "execute_result"
    }
   ],
   "source": [
    "df3"
   ]
  },
  {
   "cell_type": "code",
   "execution_count": 19,
   "id": "7ff17d27",
   "metadata": {},
   "outputs": [
    {
     "data": {
      "image/png": "[encoded data removed]",
      "text/plain": [
       "<Figure size 1000x500 with 1 Axes>"
      ]
     },
     "metadata": {},
     "output_type": "display_data"
    }
   ],
   "source": [
    "plt.figure(figsize=(10, 5))\n",
    "top_10_brands = df3['Brand'][:10]\n",
    "amounts = df3['amount_charged'][:10]\n",
    "\n",
    "plt.bar(top_10_brands, amounts)\n",
    "\n",
    "plt.xlabel('Brand')\n",
    "plt.ylabel('Amount charged $')\n",
    "plt.title('Revenue analysis by top 10 brands')\n",
    "plt.ticklabel_format(style='plain', axis='y')\n",
    "plt.xticks(rotation = 75)\n",
    "plt.grid()\n",
    "\n",
    "# Loop through the bars and add integer labels\n",
    "for i, amount in enumerate(amounts):\n",
    "    label = str(int(amount))\n",
    "    plt.text(i, amount, label, ha='center', va='bottom')\n",
    "\n",
    "plt.show()"
   ]
  },
  {
   "cell_type": "markdown",
   "id": "ec55712d",
   "metadata": {},
   "source": [
    "## # Revenue analysis by model "
   ]
  },
  {
   "cell_type": "code",
   "execution_count": 20,
   "id": "6b4f3441",
   "metadata": {},
   "outputs": [],
   "source": [
    "df4=pd.read_excel(r\"C:\\Users\\riyaz\\Downloads\\C_Dataset_sample (2).xlsx\",sheet_name='Vehicle Model')"
   ]
  },
  {
   "cell_type": "code",
   "execution_count": 21,
   "id": "1e1077f1",
   "metadata": {},
   "outputs": [],
   "source": [
    "df5=df.merge(df4, left_on='vehicle_model_id', right_on='model_id', how='inner')"
   ]
  },
  {
   "cell_type": "code",
   "execution_count": 22,
   "id": "957e6e32",
   "metadata": {},
   "outputs": [
    {
     "data": {
      "text/html": [
       "<div>\n",
       "<style scoped>\n",
       "    .dataframe tbody tr th:only-of-type {\n",
       "        vertical-align: middle;\n",
       "    }\n",
       "\n",
       "    .dataframe tbody tr th {\n",
       "        vertical-align: top;\n",
       "    }\n",
       "\n",
       "    .dataframe thead th {\n",
       "        text-align: right;\n",
       "    }\n",
       "</style>\n",
       "<table border=\"1\" class=\"dataframe\">\n",
       "  <thead>\n",
       "    <tr style=\"text-align: right;\">\n",
       "      <th></th>\n",
       "      <th>Order_id</th>\n",
       "      <th>cafu_truck_id</th>\n",
       "      <th>Job_date</th>\n",
       "      <th>hourly_slot</th>\n",
       "      <th>fuel_id</th>\n",
       "      <th>vehicle_type_id</th>\n",
       "      <th>vehicle_brand_id</th>\n",
       "      <th>vehicle_model_id</th>\n",
       "      <th>litres_sold</th>\n",
       "      <th>amount_charged</th>\n",
       "      <th>minutes_late</th>\n",
       "      <th>vehicle_type</th>\n",
       "      <th>Model</th>\n",
       "      <th>Brand</th>\n",
       "      <th>model_id</th>\n",
       "      <th>model_name</th>\n",
       "    </tr>\n",
       "  </thead>\n",
       "  <tbody>\n",
       "    <tr>\n",
       "      <th>0</th>\n",
       "      <td>1003508625</td>\n",
       "      <td>19</td>\n",
       "      <td>2020-03-31</td>\n",
       "      <td>00:00 - 01:00</td>\n",
       "      <td>2</td>\n",
       "      <td>1</td>\n",
       "      <td>4</td>\n",
       "      <td>44.0</td>\n",
       "      <td>127.10</td>\n",
       "      <td>185.632977</td>\n",
       "      <td>0.0</td>\n",
       "      <td>Car</td>\n",
       "      <td>Q3</td>\n",
       "      <td>Audi</td>\n",
       "      <td>44</td>\n",
       "      <td>Q3</td>\n",
       "    </tr>\n",
       "    <tr>\n",
       "      <th>1</th>\n",
       "      <td>1003508656</td>\n",
       "      <td>28</td>\n",
       "      <td>2020-03-31</td>\n",
       "      <td>00:00 - 01:00</td>\n",
       "      <td>2</td>\n",
       "      <td>1</td>\n",
       "      <td>4</td>\n",
       "      <td>44.0</td>\n",
       "      <td>198.10</td>\n",
       "      <td>329.435160</td>\n",
       "      <td>0.0</td>\n",
       "      <td>Car</td>\n",
       "      <td>Q3</td>\n",
       "      <td>Audi</td>\n",
       "      <td>44</td>\n",
       "      <td>Q3</td>\n",
       "    </tr>\n",
       "    <tr>\n",
       "      <th>2</th>\n",
       "      <td>1003508692</td>\n",
       "      <td>14</td>\n",
       "      <td>2020-03-31</td>\n",
       "      <td>01:00 - 02:00</td>\n",
       "      <td>2</td>\n",
       "      <td>1</td>\n",
       "      <td>4</td>\n",
       "      <td>44.0</td>\n",
       "      <td>108.77</td>\n",
       "      <td>158.811431</td>\n",
       "      <td>0.0</td>\n",
       "      <td>Car</td>\n",
       "      <td>Q3</td>\n",
       "      <td>Audi</td>\n",
       "      <td>44</td>\n",
       "      <td>Q3</td>\n",
       "    </tr>\n",
       "    <tr>\n",
       "      <th>3</th>\n",
       "      <td>1003508735</td>\n",
       "      <td>44</td>\n",
       "      <td>2020-03-31</td>\n",
       "      <td>01:00 - 02:00</td>\n",
       "      <td>2</td>\n",
       "      <td>1</td>\n",
       "      <td>4</td>\n",
       "      <td>44.0</td>\n",
       "      <td>107.77</td>\n",
       "      <td>144.725748</td>\n",
       "      <td>0.0</td>\n",
       "      <td>Car</td>\n",
       "      <td>Q3</td>\n",
       "      <td>Audi</td>\n",
       "      <td>44</td>\n",
       "      <td>Q3</td>\n",
       "    </tr>\n",
       "    <tr>\n",
       "      <th>4</th>\n",
       "      <td>1003507415</td>\n",
       "      <td>25</td>\n",
       "      <td>2020-03-30</td>\n",
       "      <td>08:00 - 09:00</td>\n",
       "      <td>1</td>\n",
       "      <td>1</td>\n",
       "      <td>4</td>\n",
       "      <td>44.0</td>\n",
       "      <td>119.09</td>\n",
       "      <td>193.586047</td>\n",
       "      <td>0.0</td>\n",
       "      <td>Car</td>\n",
       "      <td>Q3</td>\n",
       "      <td>Audi</td>\n",
       "      <td>44</td>\n",
       "      <td>Q3</td>\n",
       "    </tr>\n",
       "  </tbody>\n",
       "</table>\n",
       "</div>"
      ],
      "text/plain": [
       "     Order_id  cafu_truck_id   Job_date    hourly_slot  fuel_id  \\\n",
       "0  1003508625             19 2020-03-31  00:00 - 01:00        2   \n",
       "1  1003508656             28 2020-03-31  00:00 - 01:00        2   \n",
       "2  1003508692             14 2020-03-31  01:00 - 02:00        2   \n",
       "3  1003508735             44 2020-03-31  01:00 - 02:00        2   \n",
       "4  1003507415             25 2020-03-30  08:00 - 09:00        1   \n",
       "\n",
       "   vehicle_type_id  vehicle_brand_id  vehicle_model_id  litres_sold  \\\n",
       "0                1                 4              44.0       127.10   \n",
       "1                1                 4              44.0       198.10   \n",
       "2                1                 4              44.0       108.77   \n",
       "3                1                 4              44.0       107.77   \n",
       "4                1                 4              44.0       119.09   \n",
       "\n",
       "   amount_charged  minutes_late vehicle_type  Model Brand  model_id model_name  \n",
       "0      185.632977           0.0          Car     Q3  Audi        44         Q3  \n",
       "1      329.435160           0.0          Car     Q3  Audi        44         Q3  \n",
       "2      158.811431           0.0          Car     Q3  Audi        44         Q3  \n",
       "3      144.725748           0.0          Car     Q3  Audi        44         Q3  \n",
       "4      193.586047           0.0          Car     Q3  Audi        44         Q3  "
      ]
     },
     "execution_count": 22,
     "metadata": {},
     "output_type": "execute_result"
    }
   ],
   "source": [
    "df5.head()"
   ]
  },
  {
   "cell_type": "code",
   "execution_count": 23,
   "id": "066b9cf7",
   "metadata": {},
   "outputs": [
    {
     "data": {
      "text/plain": [
       "array(['Q3', 'Wrangler Unlimited', 'CX-9', 'X1', 'X5', 'Montero Sport',\n",
       "       'Explorer', 'LR3', 'Range Rover', '5-Series', 'Pajero',\n",
       "       'Eclipse Cross', 'S-Class', 'Touareg', 'Mustang', '3-Series',\n",
       "       'Edge', 'Cayenne', 'Escape', 'Accord Coupe', 'G 63 AMG', 'QX70',\n",
       "       '3 Sedan', 'Compass', 'QX60', 'H3', 'Bentayga', 'Teramont',\n",
       "       'Patrol', 'Land Cruiser Prado', 'Corolla', 'Sportage', 'Q7', 'X6',\n",
       "       '7-Series', 'Jetta', 'QX80', 'Nitro', 'F-150', 'Sunny', 'Fortuner',\n",
       "       'Sentra', 'GLE-Class Coupe', 'Pajero SWB', 'Land Cruiser', 'RAV-4',\n",
       "       'M3 Convertible', 'Q5', 'Altima', 'Urvan', 'LX', 'i10', 'Wrangler',\n",
       "       'Pathfinder', 'X-Trail', 'LR4', 'Cayman', 'Kicks', 'A6',\n",
       "       'Escalade', 'Charger', 'Juke', 'Challenger', 'Koleos', 'Ram',\n",
       "       'Silverado', 'Grand Cherokee', 'E 55 AMG', 'Optima', 'Rio',\n",
       "       'Durango', 'Tiguan', 'Hiace', 'Xterra', 'E-Class', 500, 'XF',\n",
       "       'Cooper', 'C-Class', 'G-Class', 'Outlander', 'MKX',\n",
       "       'Range Rover Evoque', 'Terrain', 'Tucson', 'Quattroporte',\n",
       "       'Cerato', 'Mohave', 'Macan', 1500, 'Accord', 'MKS',\n",
       "       'Veloster Turbo', 'Armada', 'Pilot', 'ES', 'ASX', 'Expedition',\n",
       "       'Countryman', 'F-Type', 'Grand Vitara', 'Levante', 'CR-V', 'Camry',\n",
       "       '4-Series', 'XC60', 'Golf GTI', '1-Series', 'Q8', 'Equinox',\n",
       "       'Cherokee', 'Figo', 'MX-5', 'X7', 'Range Rover Sport', 'Santa Fe',\n",
       "       'Ertiga', 'Megane', 'Duster', 'V90', 'Mondeo', 'Discovery',\n",
       "       'Continental GT', 'Continental GTC', '4Runner',\n",
       "       '4-Series Convertible', 'Sonata', 'Odyssey', 'Astra', 'Passat',\n",
       "       'Sierra 1500', 'E-Class Cabriolet', 'XC90', 'M-Class', 'Tundra',\n",
       "       'TT', 'Lancer EX', 'Carnival', 'Sorento', 'V70', 'Flying Spur',\n",
       "       'E-Class Coupe', 'Grand Cherokee SRT', 'Tiida', 'Yukon', 'Sequoia',\n",
       "       'Savanna', 'RX', 'Ecosport', 'Range Rover Velar', 'Ghibli',\n",
       "       'GL-Class', 'S5', 'Patrol Safari', 'Spark', 'Yaris', 'Civic',\n",
       "       'F12 Berlinetta', 'Impala', 'CLA-Class', 'Portofino', 'S3',\n",
       "       'Captur', 'A8', 'Wraith', '599 GTB Fiorano', 'A-Class', 'Lancer',\n",
       "       'Ghost', 'NX', 'Challenger SRT', 6, 'Q70', 'Panamera', 'Stelvio',\n",
       "       'Golf', '1000S', 'GLC-Class', 'IS', 'Discovery Sport', 'A5 Coupe',\n",
       "       'Hilux', 'Giulietta QV', 'M5', 'QX50', 'X2', 3008, 'Maxima', 'XK',\n",
       "       'Flex', 'Corvette', 'Passat CC', 'FJ Cruiser',\n",
       "       '4-Series Gran Coupe', '675LT', 'GLS-Class', 'Camaro', 'Arnage',\n",
       "       'Cruze', 'F-150 Raptor', 'Insignia OPC', 86, 'Tahoe', 'Boxster',\n",
       "       'CX-5', 'GranTurismo', 'X3', 'Cerato Koup', 'M4', 'ZS', 'Golf R',\n",
       "       'XC40', 'Continental', 'Viano', 'G80', 'Yaris Sedan', 'CT6',\n",
       "       'Focus', 'Acadia', 'XC70', 'Elantra', 'RS 5', 'C 63 AMG', 'Symbol',\n",
       "       'Multivan', 'X4', 'F-Pace', 'A4', '911 GT3', 'X6 M', 'Soul',\n",
       "       'C 63 AMG Coupe', 'Qashqai', 'Road King', 'XT5', 'X5 M',\n",
       "       'Scirocco', 'GTC4Lusso T', 'A7', 'Kizashi', 'Transit Custom',\n",
       "       'E-Pace', 'GLC-Class Coupe', 'Pajero Sport', '6-Series Coupe',\n",
       "       'GLC 43 AMG Coupe', 911, 'DRAGSTER', 'Mustang Convertible',\n",
       "       'Attrage', 'GC2', 'Micra', 'S-Class Coupe', 'GLK-Class',\n",
       "       'CLA 45 AMG', 'HR-V', 'Swift', 'Uplander', 'A 45 AMG', 'ATS',\n",
       "       'Traverse', 'M4 Convertible', 'Patrol Nismo', 'Focus ST',\n",
       "       'Cadenza', 'LS', '370Z', 'Veloster', 308, 'M3', 'Navigator L',\n",
       "       'GLA-Class', 'Fusion', 'Malibu', 'XJ', 'GS', 'M',\n",
       "       'S-Class Maybach', 'Beetle', 'V8 Vantage', 'SRX',\n",
       "       '6-Series Gran Coupe', 'GLE-Class', 'Cullinan', 'Rush',\n",
       "       '911 Cabriolet', 'Pickup', 'Range Rover Evoque Conver', 'Astro',\n",
       "       'Paceman', 'Seltos', 'Land Cruiser 70', 'Shelby GT500', 'CL-Class',\n",
       "       'AMG GT', 'Outback', 'QX56', 'Impreza WRX STI', 'Q50', 'Aveo',\n",
       "       'GX', 'Caprice', 'Genesis Coupe', 'A250', 'Nativa', 'Giulietta',\n",
       "       '6 Ultra', 3, 'Mountaineer', 'Roadster', '6-Series Cabriolet',\n",
       "       'Charger SRT', 'Accord Crosstour', 'Giulia', 'G25', 'ML 63 AMG',\n",
       "       'Telluride', 'V40', 'Accent', '280Z', 'Boat', 'A5 Cabriolet',\n",
       "       'A5 Sportback', 'A3 Sedan', 'Trailblazer', 'C-Class Coupe',\n",
       "       'CLS-Class', 'S6', 'M2', 5, 'Nautilus', 'SLINGSHOT', 'LR2', 'CX-3',\n",
       "       'Leon', 'Zelas', 'Lumina', 'XF Sportbrake', 'V-Class', 'City',\n",
       "       'CS75', 'Cerato Hatchback', 'Veracruz', 'GLE 63 AMG', 'S 1000',\n",
       "       '650S Spider', 'S 63 AMG Coupe', 208, 'XTS', 'Taurus', 'Renegade',\n",
       "       'Superb', '911 Turbo Cabriolet', 'RS 4', '458 Spider', 'Mirage',\n",
       "       'Navigator', 2, 'Camaro Convertible', 'i30', 'S Q5', '300C', 'H2',\n",
       "       'FX', 'Pathfinder Classic', 'RZR', 'SPORTSTER', 'Impreza WRX',\n",
       "       'Range Rover Sport SVR', 'Q30', 'Partner', 'Megane RS',\n",
       "       'G37 Coupe', 'RS Q3', 'H1', '300 SRT', 'Avanza', 'Creta', 'BX7',\n",
       "       'RS 3', '3-Series Convertible', 'Picanto', 'A3', 458, 57,\n",
       "       '2-Series', 'Avalon', 'S90', '488 Spider', 'Sienna', 'Azera',\n",
       "       'Jazz', 'Tiggo 7', 'Murano', 'Z4', 'YZF', 'Impreza', 'BRZ',\n",
       "       'Grand Santa Fe', 'S 63 AMG', 'RX5', 'SC', 'G70', 'SLK-Class',\n",
       "       'Fiesta', '911 Turbo', 'Jimny', 'Crown Victoria', 'M6 Gran Coupe',\n",
       "       'CTS Coupe', 'Materia', 'IS C', 'EX', 'CLS 63 AMG', 'F-Type Coupe',\n",
       "       'G35', 'MKC', 'CLK-Class', 'Swift Dzire', 'Mulsanne', 'GT-R',\n",
       "       'Rio Hatchback', 'Safrane', 'Vitara', 'L200', 'Dart',\n",
       "       'Cruze Hatchback', 'Galant', '350Z', 'MKT', '8-Series', 'Talisman',\n",
       "       'JX', 'Aviator', 'SuperDuke', 206, 'GLC 63 AMG', 'GTC4Lusso',\n",
       "       'Transit', 'G 65 AMG', 'Q60 Coupe', 'DB11', 'E 63 AMG', 'Polo',\n",
       "       'Trax', 'Octavia', 'GranCabrio', 'Aurion', 'G', 'Ranger', 'Dawn',\n",
       "       'Beetle Cabriolet', 'Wingle', 'Innova', 'Captiva', 'Evora',\n",
       "       'Q60 Convertible', 'Drophead Coupe', 'Silver Seraph', '911 GT2',\n",
       "       'G37 Convertible', 'S8', 'Urus', 'Range Rover Evoque Coupe',\n",
       "       'Viper', 'Sebring', 'Mokka', 62, 'Amarok', 'Previa', 'F430 Spider',\n",
       "       'SL 63 AMG', 'Fluence', 'Optra', 'CTS', 'Astra GTC', 'SLS AMG',\n",
       "       'Ultra', 'M6 Coupe', 'X-Type', 'Golf R32', 'Blazer', '570S Coupe',\n",
       "       'C30', 'Zuma', 207, '488 GTB', 'RC ', 'Kona', 'Coupe', 'RS 7',\n",
       "       'Baleno', 'California T', 'Eado', 'XE', 'Grand Voyager',\n",
       "       'S 65 AMG', 'CLS Shooting Brake', 'Avalanche', 'Suburban', 508,\n",
       "       'GLC 43 AMG', 'Pacifica', 'GS8', 'S60 Polestar', 'GA3', 'V60',\n",
       "       'Rapide', 'S7', 'S60', 'Supra', 'Corsa', 301, 'Aventador', 'Eos',\n",
       "       'Touran', 'Aventador Roadster', 800, 'SL-Class', 'California',\n",
       "       'Scirocco R', '3-Series Coupe', 'Commander', 'S40', 'Insignia',\n",
       "       'GLS 63 AMG', 'Softail', 'DB9', 'Civic Hatchback', 'RS 3 Sedan',\n",
       "       'Prius', 'Carens', 'Huracan', 'Diavel', 'Genesis', 'R-Class',\n",
       "       'Antara', 'XFR-S', 'RX8', 'TMAX', 'Sirion', 'S80', 'CS35', 'P',\n",
       "       'Super', 'DB9 Volante', 'CTS-V', 'Forester', 'S 65 AMG Coupe',\n",
       "       'GLE 63 AMG Coupe', 'Palisade', 'LFA', 'Arteon', 'R nineT',\n",
       "       'Street Glide', '570S Spider', 'H6', 'CVO', 'Envoy', 'IS F',\n",
       "       'Boulevard M95', 'Emgrand GS', 'Continental Flying Spur', 'K 1200',\n",
       "       'GS4', 'Panigale', 'A1', 'XK Convertible', 'M5 MPV', 'SL 65 AMG',\n",
       "       'Motorcycle', 'GLC 63 AMG Coupe', 'SLC-Class', 'APV', 'Astra OPC',\n",
       "       'Patriot', 'Epica', 'S-Type', 'Odyssey J', 'Gallardo', 'xA', 'A35',\n",
       "       'R8 Spyder', 'Vanquish Volante', 'DBS', 'LC', 'Clubman',\n",
       "       '812 Superfast', 'Tiggo 3', 'Clio', 'ZX-R', 'E5', 'CLC-Class',\n",
       "       'CS', 'Scout', 'Z7', 'Ninja', 'XLR', 'Multistrada', 'T600',\n",
       "       'V60 Polestar', 'Emgrand X7', '500X', 'DTS', 'Defender', 'RCZ',\n",
       "       'MKZ', 'R8', 'Land Cruiser Prado SWB', 'RC F',\n",
       "       '6-Series Gran Turismo', 'Emgrand X7 Sport', 'DB11 Volante', 'XV',\n",
       "       'CX-7', '570GT Coupe', 'i20', 'Tiggo 5', 'Navara', 'Q45',\n",
       "       'Phantom', 'Grand Marquis', 'FXDR', 'MR-V', 'Eclipse', 5008,\n",
       "       'S3 SUV', '5-Series GT', 43346, 'Giulia QV', 'Fabia', 'Smart',\n",
       "       '308 CC', 'CSV CR8', '720S', 'Kodiaq', 'Vanquish', 'MT', 'FF',\n",
       "       'Lancer Evolution', 1000, 'Vito', 'STS', '4C', 'Expert', 'i8',\n",
       "       'Exige', 'ATS-V', 'GT', 360, 'MP4-12C Spider', 'Veyron',\n",
       "       'Huracan Spyder', 'GS3', 'GS7', 'Terios', 'F430', 'ADVENTURE', 350,\n",
       "       'Monster', 'Road Glide', 'Town Car', 'Trooper', 'B-Class',\n",
       "       'Tribeca', 'FZR', 'F-Type SVR Convertible', 'MX-5 RF', 'J4',\n",
       "       'Land Cruiser Pickup', 'S2000', 'ATS Coupe', 'CB', 'WR 450 F', 125,\n",
       "       'Chiron', 'Neon', 147, 2008, 'R 1200', 'E 43 AMG', 'C70',\n",
       "       'TL 1000', 'Vulcan', '612 Scaglietti', 'QX30', 'Ciaz',\n",
       "       '918 Spyder', 'Lancer Fortis', 'Azure', 'Stelvio QV', 'Sporty',\n",
       "       'GA8', '9-7X', 'SUPER TENERE ES', 'Quoris', 'Freelander',\n",
       "       'B-Series', 'ATS-V Coupe', 'SUP', 'U7', 'LaFerrari', 'Colorado',\n",
       "       'Zafira', 450, 'HS', 'P1', 'Corsa OPC', 'Q2', 'G35 Coupe', 'TLX',\n",
       "       'Raptor', 'CRX', 'Karma', 'Wagoneer', 'Z 1000'], dtype=object)"
      ]
     },
     "execution_count": 23,
     "metadata": {},
     "output_type": "execute_result"
    }
   ],
   "source": [
    "df5[' Model'].unique()"
   ]
  },
  {
   "cell_type": "code",
   "execution_count": 24,
   "id": "9a38a22d",
   "metadata": {},
   "outputs": [],
   "source": [
    "df5.drop(columns=['vehicle_model_id','model_name'],axis=1,inplace=True)"
   ]
  },
  {
   "cell_type": "code",
   "execution_count": 25,
   "id": "9d9d3583",
   "metadata": {},
   "outputs": [
    {
     "data": {
      "text/html": [
       "<div>\n",
       "<style scoped>\n",
       "    .dataframe tbody tr th:only-of-type {\n",
       "        vertical-align: middle;\n",
       "    }\n",
       "\n",
       "    .dataframe tbody tr th {\n",
       "        vertical-align: top;\n",
       "    }\n",
       "\n",
       "    .dataframe thead th {\n",
       "        text-align: right;\n",
       "    }\n",
       "</style>\n",
       "<table border=\"1\" class=\"dataframe\">\n",
       "  <thead>\n",
       "    <tr style=\"text-align: right;\">\n",
       "      <th></th>\n",
       "      <th>Order_id</th>\n",
       "      <th>cafu_truck_id</th>\n",
       "      <th>Job_date</th>\n",
       "      <th>hourly_slot</th>\n",
       "      <th>fuel_id</th>\n",
       "      <th>vehicle_type_id</th>\n",
       "      <th>vehicle_brand_id</th>\n",
       "      <th>litres_sold</th>\n",
       "      <th>amount_charged</th>\n",
       "      <th>minutes_late</th>\n",
       "      <th>vehicle_type</th>\n",
       "      <th>Model</th>\n",
       "      <th>Brand</th>\n",
       "      <th>model_id</th>\n",
       "    </tr>\n",
       "  </thead>\n",
       "  <tbody>\n",
       "    <tr>\n",
       "      <th>0</th>\n",
       "      <td>1003508625</td>\n",
       "      <td>19</td>\n",
       "      <td>2020-03-31</td>\n",
       "      <td>00:00 - 01:00</td>\n",
       "      <td>2</td>\n",
       "      <td>1</td>\n",
       "      <td>4</td>\n",
       "      <td>127.10</td>\n",
       "      <td>185.632977</td>\n",
       "      <td>0.0</td>\n",
       "      <td>Car</td>\n",
       "      <td>Q3</td>\n",
       "      <td>Audi</td>\n",
       "      <td>44</td>\n",
       "    </tr>\n",
       "    <tr>\n",
       "      <th>1</th>\n",
       "      <td>1003508656</td>\n",
       "      <td>28</td>\n",
       "      <td>2020-03-31</td>\n",
       "      <td>00:00 - 01:00</td>\n",
       "      <td>2</td>\n",
       "      <td>1</td>\n",
       "      <td>4</td>\n",
       "      <td>198.10</td>\n",
       "      <td>329.435160</td>\n",
       "      <td>0.0</td>\n",
       "      <td>Car</td>\n",
       "      <td>Q3</td>\n",
       "      <td>Audi</td>\n",
       "      <td>44</td>\n",
       "    </tr>\n",
       "    <tr>\n",
       "      <th>2</th>\n",
       "      <td>1003508692</td>\n",
       "      <td>14</td>\n",
       "      <td>2020-03-31</td>\n",
       "      <td>01:00 - 02:00</td>\n",
       "      <td>2</td>\n",
       "      <td>1</td>\n",
       "      <td>4</td>\n",
       "      <td>108.77</td>\n",
       "      <td>158.811431</td>\n",
       "      <td>0.0</td>\n",
       "      <td>Car</td>\n",
       "      <td>Q3</td>\n",
       "      <td>Audi</td>\n",
       "      <td>44</td>\n",
       "    </tr>\n",
       "    <tr>\n",
       "      <th>3</th>\n",
       "      <td>1003508735</td>\n",
       "      <td>44</td>\n",
       "      <td>2020-03-31</td>\n",
       "      <td>01:00 - 02:00</td>\n",
       "      <td>2</td>\n",
       "      <td>1</td>\n",
       "      <td>4</td>\n",
       "      <td>107.77</td>\n",
       "      <td>144.725748</td>\n",
       "      <td>0.0</td>\n",
       "      <td>Car</td>\n",
       "      <td>Q3</td>\n",
       "      <td>Audi</td>\n",
       "      <td>44</td>\n",
       "    </tr>\n",
       "    <tr>\n",
       "      <th>4</th>\n",
       "      <td>1003507415</td>\n",
       "      <td>25</td>\n",
       "      <td>2020-03-30</td>\n",
       "      <td>08:00 - 09:00</td>\n",
       "      <td>1</td>\n",
       "      <td>1</td>\n",
       "      <td>4</td>\n",
       "      <td>119.09</td>\n",
       "      <td>193.586047</td>\n",
       "      <td>0.0</td>\n",
       "      <td>Car</td>\n",
       "      <td>Q3</td>\n",
       "      <td>Audi</td>\n",
       "      <td>44</td>\n",
       "    </tr>\n",
       "  </tbody>\n",
       "</table>\n",
       "</div>"
      ],
      "text/plain": [
       "     Order_id  cafu_truck_id   Job_date    hourly_slot  fuel_id  \\\n",
       "0  1003508625             19 2020-03-31  00:00 - 01:00        2   \n",
       "1  1003508656             28 2020-03-31  00:00 - 01:00        2   \n",
       "2  1003508692             14 2020-03-31  01:00 - 02:00        2   \n",
       "3  1003508735             44 2020-03-31  01:00 - 02:00        2   \n",
       "4  1003507415             25 2020-03-30  08:00 - 09:00        1   \n",
       "\n",
       "   vehicle_type_id  vehicle_brand_id  litres_sold  amount_charged  \\\n",
       "0                1                 4       127.10      185.632977   \n",
       "1                1                 4       198.10      329.435160   \n",
       "2                1                 4       108.77      158.811431   \n",
       "3                1                 4       107.77      144.725748   \n",
       "4                1                 4       119.09      193.586047   \n",
       "\n",
       "   minutes_late vehicle_type  Model Brand  model_id  \n",
       "0           0.0          Car     Q3  Audi        44  \n",
       "1           0.0          Car     Q3  Audi        44  \n",
       "2           0.0          Car     Q3  Audi        44  \n",
       "3           0.0          Car     Q3  Audi        44  \n",
       "4           0.0          Car     Q3  Audi        44  "
      ]
     },
     "execution_count": 25,
     "metadata": {},
     "output_type": "execute_result"
    }
   ],
   "source": [
    "df5.head()"
   ]
  },
  {
   "cell_type": "code",
   "execution_count": 26,
   "id": "04a0c322",
   "metadata": {},
   "outputs": [],
   "source": [
    "df6=pd.DataFrame(df5.groupby(' Model')['amount_charged'].sum().sort_values(ascending=False))\n",
    "df6.reset_index(inplace=True)\n"
   ]
  },
  {
   "cell_type": "markdown",
   "id": "b5a4b042",
   "metadata": {},
   "source": []
  },
  {
   "cell_type": "code",
   "execution_count": 29,
   "id": "9e5296e6",
   "metadata": {},
   "outputs": [
    {
     "data": {
      "image/png": "[encoded data removed]",
      "text/plain": [
       "<Figure size 1000x500 with 1 Axes>"
      ]
     },
     "metadata": {},
     "output_type": "display_data"
    }
   ],
   "source": [
    "plt.figure(figsize=(10, 5))\n",
    "top_10_models = df6[' Model'][:10]\n",
    "amounts = df6['amount_charged'][:10]\n",
    "\n",
    "plt.bar(top_10_models, amounts)\n",
    "\n",
    "plt.xlabel('Model')\n",
    "plt.ylabel('Amount charged $')\n",
    "plt.title('Revenue analysis by top 10 vehicle models')\n",
    "plt.ticklabel_format(style='plain', axis='y')\n",
    "plt.xticks(rotation=75)\n",
    "plt.grid()\n",
    "\n",
    "# Loop through the bars and add integer labels\n",
    "for i, amount in enumerate(amounts):\n",
    "    label = str(int(amount))\n",
    "    plt.text(i, amount, label, ha='center', va='bottom')\n",
    "\n",
    "plt.show()\n"
   ]
  },
  {
   "cell_type": "markdown",
   "id": "2cb43631",
   "metadata": {},
   "source": [
    "# Delay analysis by weekday "
   ]
  },
  {
   "cell_type": "code",
   "execution_count": 46,
   "id": "3c4cbb03",
   "metadata": {},
   "outputs": [],
   "source": [
    "df['weekday']=df['Job_date'].dt.weekday"
   ]
  },
  {
   "cell_type": "code",
   "execution_count": 47,
   "id": "e8dc6c54",
   "metadata": {},
   "outputs": [
    {
     "data": {
      "text/plain": [
       "0        1\n",
       "1        1\n",
       "2        1\n",
       "3        1\n",
       "4        1\n",
       "        ..\n",
       "81063    6\n",
       "81064    6\n",
       "81065    6\n",
       "81066    6\n",
       "81067    6\n",
       "Name: weekday, Length: 81068, dtype: int64"
      ]
     },
     "execution_count": 47,
     "metadata": {},
     "output_type": "execute_result"
    }
   ],
   "source": [
    "df['weekday']"
   ]
  },
  {
   "cell_type": "code",
   "execution_count": 93,
   "id": "356cad37",
   "metadata": {},
   "outputs": [
    {
     "name": "stderr",
     "output_type": "stream",
     "text": [
      "C:\\Users\\riyaz\\AppData\\Local\\Temp\\ipykernel_61244\\451893630.py:3: SettingWithCopyWarning: \n",
      "A value is trying to be set on a copy of a slice from a DataFrame\n",
      "\n",
      "See the caveats in the documentation: https://pandas.pydata.org/pandas-docs/stable/user_guide/indexing.html#returning-a-view-versus-a-copy\n",
      "  df['weekday'][i]=days[df['Job_date'][i].weekday()]\n"
     ]
    }
   ],
   "source": [
    "days=['Monday','Tuesday','Wednesday','Thursday','Friday','Saturday','Sunday']\n",
    "for i in range(df.shape[0]):\n",
    "    df['weekday'][i]=days[df['Job_date'][i].weekday()]\n",
    "    "
   ]
  },
  {
   "cell_type": "code",
   "execution_count": 94,
   "id": "83db12b8",
   "metadata": {},
   "outputs": [
    {
     "data": {
      "text/plain": [
       "0        Tuesday\n",
       "1        Tuesday\n",
       "2        Tuesday\n",
       "3        Tuesday\n",
       "4        Tuesday\n",
       "          ...   \n",
       "81063     Sunday\n",
       "81064     Sunday\n",
       "81065     Sunday\n",
       "81066     Sunday\n",
       "81067     Sunday\n",
       "Name: weekday, Length: 81068, dtype: object"
      ]
     },
     "execution_count": 94,
     "metadata": {},
     "output_type": "execute_result"
    }
   ],
   "source": [
    "df['weekday']"
   ]
  },
  {
   "cell_type": "code",
   "execution_count": 100,
   "id": "432caa94",
   "metadata": {},
   "outputs": [],
   "source": [
    "df8=pd.DataFrame(df.groupby('weekday')['minutes_late'].mean().sort_values(ascending=False))\n",
    "df8.reset_index(inplace=True)"
   ]
  },
  {
   "cell_type": "code",
   "execution_count": 101,
   "id": "9875ad5a",
   "metadata": {},
   "outputs": [
    {
     "data": {
      "text/html": [
       "<div>\n",
       "<style scoped>\n",
       "    .dataframe tbody tr th:only-of-type {\n",
       "        vertical-align: middle;\n",
       "    }\n",
       "\n",
       "    .dataframe tbody tr th {\n",
       "        vertical-align: top;\n",
       "    }\n",
       "\n",
       "    .dataframe thead th {\n",
       "        text-align: right;\n",
       "    }\n",
       "</style>\n",
       "<table border=\"1\" class=\"dataframe\">\n",
       "  <thead>\n",
       "    <tr style=\"text-align: right;\">\n",
       "      <th></th>\n",
       "      <th>weekday</th>\n",
       "      <th>minutes_late</th>\n",
       "    </tr>\n",
       "  </thead>\n",
       "  <tbody>\n",
       "    <tr>\n",
       "      <th>0</th>\n",
       "      <td>Tuesday</td>\n",
       "      <td>3.919146</td>\n",
       "    </tr>\n",
       "    <tr>\n",
       "      <th>1</th>\n",
       "      <td>Monday</td>\n",
       "      <td>3.756589</td>\n",
       "    </tr>\n",
       "    <tr>\n",
       "      <th>2</th>\n",
       "      <td>Sunday</td>\n",
       "      <td>3.706768</td>\n",
       "    </tr>\n",
       "    <tr>\n",
       "      <th>3</th>\n",
       "      <td>Friday</td>\n",
       "      <td>3.548883</td>\n",
       "    </tr>\n",
       "    <tr>\n",
       "      <th>4</th>\n",
       "      <td>Thursday</td>\n",
       "      <td>3.369228</td>\n",
       "    </tr>\n",
       "    <tr>\n",
       "      <th>5</th>\n",
       "      <td>Saturday</td>\n",
       "      <td>3.321121</td>\n",
       "    </tr>\n",
       "    <tr>\n",
       "      <th>6</th>\n",
       "      <td>Wednesday</td>\n",
       "      <td>3.078654</td>\n",
       "    </tr>\n",
       "  </tbody>\n",
       "</table>\n",
       "</div>"
      ],
      "text/plain": [
       "     weekday  minutes_late\n",
       "0    Tuesday      3.919146\n",
       "1     Monday      3.756589\n",
       "2     Sunday      3.706768\n",
       "3     Friday      3.548883\n",
       "4   Thursday      3.369228\n",
       "5   Saturday      3.321121\n",
       "6  Wednesday      3.078654"
      ]
     },
     "execution_count": 101,
     "metadata": {},
     "output_type": "execute_result"
    }
   ],
   "source": [
    "df8"
   ]
  },
  {
   "cell_type": "code",
   "execution_count": 103,
   "id": "64deaf1a",
   "metadata": {},
   "outputs": [
    {
     "data": {
      "text/plain": [
       "([0, 1, 2, 3, 4, 5, 6],\n",
       " [Text(0, 0, ''),\n",
       "  Text(0, 0, ''),\n",
       "  Text(0, 0, ''),\n",
       "  Text(0, 0, ''),\n",
       "  Text(0, 0, ''),\n",
       "  Text(0, 0, ''),\n",
       "  Text(0, 0, '')])"
      ]
     },
     "execution_count": 103,
     "metadata": {},
     "output_type": "execute_result"
    },
    {
     "data": {
      "image/png": "[encoded data removed]",
      "text/plain": [
       "<Figure size 1000x600 with 1 Axes>"
      ]
     },
     "metadata": {},
     "output_type": "display_data"
    }
   ],
   "source": [
    "fig, ax = plt.subplots(figsize=(10,6))\n",
    "bar_container = ax.bar(df8['weekday'],df8['minutes_late'])\n",
    "ax.set(ylabel='minutes_late',xlabel='weekday', title='Delay analysis by weekdays')\n",
    "ax.bar_label(bar_container)\n",
    "plt.xticks(rotation=75)"
   ]
  },
  {
   "cell_type": "markdown",
   "id": "bd8ba7d5",
   "metadata": {},
   "source": [
    "# Delay anaysis by hourly slot"
   ]
  },
  {
   "cell_type": "code",
   "execution_count": 61,
   "id": "08477634",
   "metadata": {},
   "outputs": [
    {
     "data": {
      "text/plain": [
       "0        00:00 - 01:00\n",
       "1        00:00 - 01:00\n",
       "2        00:00 - 01:00\n",
       "3        00:00 - 01:00\n",
       "4        00:00 - 01:00\n",
       "             ...      \n",
       "81063    23:00 - 00:00\n",
       "81064    23:00 - 00:00\n",
       "81065    23:00 - 00:00\n",
       "81066    23:00 - 00:00\n",
       "81067    23:00 - 00:00\n",
       "Name: hourly_slot, Length: 81068, dtype: object"
      ]
     },
     "execution_count": 61,
     "metadata": {},
     "output_type": "execute_result"
    }
   ],
   "source": [
    "df['hourly_slot']\n"
   ]
  },
  {
   "cell_type": "code",
   "execution_count": 69,
   "id": "d013bdf2",
   "metadata": {},
   "outputs": [
    {
     "name": "stderr",
     "output_type": "stream",
     "text": [
      "C:\\Users\\riyaz\\AppData\\Local\\Temp\\ipykernel_61244\\4003552576.py:2: FutureWarning: Columnar iteration over characters will be deprecated in future releases.\n",
      "  df['start_time'], df['end_time'] = df['hourly_slot'].str.split(' - ').str\n"
     ]
    }
   ],
   "source": [
    "# Split the string into two parts: start time and end time\n",
    "df['start_time'], df['end_time'] = df['hourly_slot'].str.split(' - ').str\n",
    "\n",
    "# Convert the start time to datetime format\n",
    "df['start_time'] = pd.to_datetime(df['start_time'], format='%H:%M')\n",
    "\n",
    "# Convert the end time to datetime format\n",
    "df['end_time'] = pd.to_datetime(df['end_time'], format='%H:%M')\n",
    "\n",
    "# Format the datetime objects in 12-hour format \n",
    "df['start_time_12hr'] = df['start_time'].dt.strftime('%I:%M')\n",
    "df['end_time_12hr'] = df['end_time'].dt.strftime('%I:%M')\n",
    "\n",
    "# Create the 12-hour format time range\n",
    "df['hourly_slot_12hr'] = df['start_time_12hr'] + ' - ' + df['end_time_12hr']\n"
   ]
  },
  {
   "cell_type": "code",
   "execution_count": 70,
   "id": "a7fe39f4",
   "metadata": {},
   "outputs": [
    {
     "data": {
      "text/plain": [
       "0        12:00 - 01:00\n",
       "1        12:00 - 01:00\n",
       "2        12:00 - 01:00\n",
       "3        12:00 - 01:00\n",
       "4        12:00 - 01:00\n",
       "             ...      \n",
       "81063    11:00 - 12:00\n",
       "81064    11:00 - 12:00\n",
       "81065    11:00 - 12:00\n",
       "81066    11:00 - 12:00\n",
       "81067    11:00 - 12:00\n",
       "Name: hourly_slot_12hr, Length: 81068, dtype: object"
      ]
     },
     "execution_count": 70,
     "metadata": {},
     "output_type": "execute_result"
    }
   ],
   "source": [
    "df['hourly_slot_12hr']"
   ]
  },
  {
   "cell_type": "code",
   "execution_count": 76,
   "id": "fc5d9a96",
   "metadata": {},
   "outputs": [],
   "source": [
    "delay_by_hr=df.groupby('hourly_slot_12hr').sum()[['minutes_late']].sort_values(by='minutes_late',ascending=False)"
   ]
  },
  {
   "cell_type": "code",
   "execution_count": 77,
   "id": "795f9637",
   "metadata": {},
   "outputs": [],
   "source": [
    "delay_by_hr.reset_index(inplace=True)"
   ]
  },
  {
   "cell_type": "code",
   "execution_count": 78,
   "id": "61e02ed5",
   "metadata": {},
   "outputs": [
    {
     "data": {
      "text/html": [
       "<div>\n",
       "<style scoped>\n",
       "    .dataframe tbody tr th:only-of-type {\n",
       "        vertical-align: middle;\n",
       "    }\n",
       "\n",
       "    .dataframe tbody tr th {\n",
       "        vertical-align: top;\n",
       "    }\n",
       "\n",
       "    .dataframe thead th {\n",
       "        text-align: right;\n",
       "    }\n",
       "</style>\n",
       "<table border=\"1\" class=\"dataframe\">\n",
       "  <thead>\n",
       "    <tr style=\"text-align: right;\">\n",
       "      <th></th>\n",
       "      <th>hourly_slot_12hr</th>\n",
       "      <th>minutes_late</th>\n",
       "    </tr>\n",
       "  </thead>\n",
       "  <tbody>\n",
       "    <tr>\n",
       "      <th>0</th>\n",
       "      <td>12:00 - 01:00</td>\n",
       "      <td>36823.12</td>\n",
       "    </tr>\n",
       "    <tr>\n",
       "      <th>1</th>\n",
       "      <td>10:00 - 11:00</td>\n",
       "      <td>32690.22</td>\n",
       "    </tr>\n",
       "    <tr>\n",
       "      <th>2</th>\n",
       "      <td>02:00 - 03:00</td>\n",
       "      <td>30431.78</td>\n",
       "    </tr>\n",
       "    <tr>\n",
       "      <th>3</th>\n",
       "      <td>01:00 - 02:00</td>\n",
       "      <td>28088.36</td>\n",
       "    </tr>\n",
       "    <tr>\n",
       "      <th>4</th>\n",
       "      <td>09:00 - 10:00</td>\n",
       "      <td>25833.14</td>\n",
       "    </tr>\n",
       "    <tr>\n",
       "      <th>5</th>\n",
       "      <td>08:00 - 09:00</td>\n",
       "      <td>23040.06</td>\n",
       "    </tr>\n",
       "    <tr>\n",
       "      <th>6</th>\n",
       "      <td>03:00 - 04:00</td>\n",
       "      <td>21980.44</td>\n",
       "    </tr>\n",
       "    <tr>\n",
       "      <th>7</th>\n",
       "      <td>04:00 - 05:00</td>\n",
       "      <td>19977.20</td>\n",
       "    </tr>\n",
       "    <tr>\n",
       "      <th>8</th>\n",
       "      <td>11:00 - 12:00</td>\n",
       "      <td>18576.48</td>\n",
       "    </tr>\n",
       "    <tr>\n",
       "      <th>9</th>\n",
       "      <td>07:00 - 08:00</td>\n",
       "      <td>18487.08</td>\n",
       "    </tr>\n",
       "    <tr>\n",
       "      <th>10</th>\n",
       "      <td>06:00 - 07:00</td>\n",
       "      <td>17613.46</td>\n",
       "    </tr>\n",
       "    <tr>\n",
       "      <th>11</th>\n",
       "      <td>05:00 - 06:00</td>\n",
       "      <td>14471.46</td>\n",
       "    </tr>\n",
       "  </tbody>\n",
       "</table>\n",
       "</div>"
      ],
      "text/plain": [
       "   hourly_slot_12hr  minutes_late\n",
       "0     12:00 - 01:00      36823.12\n",
       "1     10:00 - 11:00      32690.22\n",
       "2     02:00 - 03:00      30431.78\n",
       "3     01:00 - 02:00      28088.36\n",
       "4     09:00 - 10:00      25833.14\n",
       "5     08:00 - 09:00      23040.06\n",
       "6     03:00 - 04:00      21980.44\n",
       "7     04:00 - 05:00      19977.20\n",
       "8     11:00 - 12:00      18576.48\n",
       "9     07:00 - 08:00      18487.08\n",
       "10    06:00 - 07:00      17613.46\n",
       "11    05:00 - 06:00      14471.46"
      ]
     },
     "execution_count": 78,
     "metadata": {},
     "output_type": "execute_result"
    }
   ],
   "source": [
    "delay_by_hr"
   ]
  },
  {
   "cell_type": "code",
   "execution_count": 92,
   "id": "ba25e4d4",
   "metadata": {},
   "outputs": [
    {
     "data": {
      "text/plain": [
       "([0, 1, 2, 3, 4, 5, 6, 7, 8, 9, 10, 11],\n",
       " [Text(0, 0, ''),\n",
       "  Text(0, 0, ''),\n",
       "  Text(0, 0, ''),\n",
       "  Text(0, 0, ''),\n",
       "  Text(0, 0, ''),\n",
       "  Text(0, 0, ''),\n",
       "  Text(0, 0, ''),\n",
       "  Text(0, 0, ''),\n",
       "  Text(0, 0, ''),\n",
       "  Text(0, 0, ''),\n",
       "  Text(0, 0, ''),\n",
       "  Text(0, 0, '')])"
      ]
     },
     "execution_count": 92,
     "metadata": {},
     "output_type": "execute_result"
    },
    {
     "data": {
      "image/png": "[encoded data removed]",
      "text/plain": [
       "<Figure size 1000x600 with 1 Axes>"
      ]
     },
     "metadata": {},
     "output_type": "display_data"
    }
   ],
   "source": [
    "fig, ax = plt.subplots(figsize=(10,6))\n",
    "bar_container = ax.bar(delay_by_hr['hourly_slot_12hr'],delay_by_hr['minutes_late'])\n",
    "ax.set(ylabel='minutes_late',xlabel='hourly_slot', title='Delay analysis by hourly slot')\n",
    "ax.bar_label(bar_container)\n",
    "plt.xticks(rotation=75)"
   ]
  },
  {
   "cell_type": "markdown",
   "id": "716ca32a",
   "metadata": {},
   "source": [
    "# Delay anaysis by vehicle type"
   ]
  },
  {
   "cell_type": "code",
   "execution_count": 112,
   "id": "b832ba53",
   "metadata": {},
   "outputs": [],
   "source": [
    "df9=pd.DataFrame(df.groupby('vehicle_type')['minutes_late'].mean().sort_values(ascending=False))\n",
    "df9.reset_index(inplace=True)\n"
   ]
  },
  {
   "cell_type": "code",
   "execution_count": 113,
   "id": "6649a0fe",
   "metadata": {},
   "outputs": [
    {
     "data": {
      "text/html": [
       "<div>\n",
       "<style scoped>\n",
       "    .dataframe tbody tr th:only-of-type {\n",
       "        vertical-align: middle;\n",
       "    }\n",
       "\n",
       "    .dataframe tbody tr th {\n",
       "        vertical-align: top;\n",
       "    }\n",
       "\n",
       "    .dataframe thead th {\n",
       "        text-align: right;\n",
       "    }\n",
       "</style>\n",
       "<table border=\"1\" class=\"dataframe\">\n",
       "  <thead>\n",
       "    <tr style=\"text-align: right;\">\n",
       "      <th></th>\n",
       "      <th>vehicle_type</th>\n",
       "      <th>minutes_late</th>\n",
       "    </tr>\n",
       "  </thead>\n",
       "  <tbody>\n",
       "    <tr>\n",
       "      <th>0</th>\n",
       "      <td>MotorBike</td>\n",
       "      <td>5.791150</td>\n",
       "    </tr>\n",
       "    <tr>\n",
       "      <th>1</th>\n",
       "      <td>Car</td>\n",
       "      <td>3.577580</td>\n",
       "    </tr>\n",
       "    <tr>\n",
       "      <th>2</th>\n",
       "      <td>Boat</td>\n",
       "      <td>0.940266</td>\n",
       "    </tr>\n",
       "    <tr>\n",
       "      <th>3</th>\n",
       "      <td>Other</td>\n",
       "      <td>0.000000</td>\n",
       "    </tr>\n",
       "  </tbody>\n",
       "</table>\n",
       "</div>"
      ],
      "text/plain": [
       "  vehicle_type  minutes_late\n",
       "0    MotorBike      5.791150\n",
       "1          Car      3.577580\n",
       "2         Boat      0.940266\n",
       "3        Other      0.000000"
      ]
     },
     "execution_count": 113,
     "metadata": {},
     "output_type": "execute_result"
    }
   ],
   "source": [
    "df9"
   ]
  },
  {
   "cell_type": "code",
   "execution_count": 115,
   "id": "da198af7",
   "metadata": {},
   "outputs": [
    {
     "data": {
      "text/plain": [
       "([0, 1, 2, 3],\n",
       " [Text(0, 0, ''), Text(0, 0, ''), Text(0, 0, ''), Text(0, 0, '')])"
      ]
     },
     "execution_count": 115,
     "metadata": {},
     "output_type": "execute_result"
    },
    {
     "data": {
      "image/png": "[encoded data removed]",
      "text/plain": [
       "<Figure size 1000x600 with 1 Axes>"
      ]
     },
     "metadata": {},
     "output_type": "display_data"
    }
   ],
   "source": [
    "fig,ax=plt.subplots(figsize=(10,6))\n",
    "bar_container=ax.bar(df9['vehicle_type'],df9['minutes_late'])\n",
    "ax.set(ylabel='minutes_late',xlabel='vehicle_type',title='Delay analysis by vehicle type')\n",
    "ax.bar_label(bar_container)\n",
    "plt.xticks(rotation=75)\n"
   ]
  },
  {
   "cell_type": "markdown",
   "id": "e7efad58",
   "metadata": {},
   "source": [
    "# Peak hourly slot analysis-by number of orders"
   ]
  },
  {
   "cell_type": "code",
   "execution_count": 119,
   "id": "025351ce",
   "metadata": {},
   "outputs": [],
   "source": [
    "df10=pd.DataFrame(df.groupby('hourly_slot_12hr')['Order_id'].count().sort_values(ascending=False))\n",
    "df10.reset_index(inplace=True)"
   ]
  },
  {
   "cell_type": "code",
   "execution_count": 120,
   "id": "7e6aa8a4",
   "metadata": {},
   "outputs": [
    {
     "data": {
      "text/html": [
       "<div>\n",
       "<style scoped>\n",
       "    .dataframe tbody tr th:only-of-type {\n",
       "        vertical-align: middle;\n",
       "    }\n",
       "\n",
       "    .dataframe tbody tr th {\n",
       "        vertical-align: top;\n",
       "    }\n",
       "\n",
       "    .dataframe thead th {\n",
       "        text-align: right;\n",
       "    }\n",
       "</style>\n",
       "<table border=\"1\" class=\"dataframe\">\n",
       "  <thead>\n",
       "    <tr style=\"text-align: right;\">\n",
       "      <th></th>\n",
       "      <th>hourly_slot_12hr</th>\n",
       "      <th>Order_id</th>\n",
       "    </tr>\n",
       "  </thead>\n",
       "  <tbody>\n",
       "    <tr>\n",
       "      <th>0</th>\n",
       "      <td>12:00 - 01:00</td>\n",
       "      <td>11260</td>\n",
       "    </tr>\n",
       "    <tr>\n",
       "      <th>1</th>\n",
       "      <td>01:00 - 02:00</td>\n",
       "      <td>9652</td>\n",
       "    </tr>\n",
       "    <tr>\n",
       "      <th>2</th>\n",
       "      <td>02:00 - 03:00</td>\n",
       "      <td>8936</td>\n",
       "    </tr>\n",
       "    <tr>\n",
       "      <th>3</th>\n",
       "      <td>10:00 - 11:00</td>\n",
       "      <td>7368</td>\n",
       "    </tr>\n",
       "    <tr>\n",
       "      <th>4</th>\n",
       "      <td>03:00 - 04:00</td>\n",
       "      <td>7168</td>\n",
       "    </tr>\n",
       "    <tr>\n",
       "      <th>5</th>\n",
       "      <td>04:00 - 05:00</td>\n",
       "      <td>5882</td>\n",
       "    </tr>\n",
       "    <tr>\n",
       "      <th>6</th>\n",
       "      <td>09:00 - 10:00</td>\n",
       "      <td>5822</td>\n",
       "    </tr>\n",
       "    <tr>\n",
       "      <th>7</th>\n",
       "      <td>08:00 - 09:00</td>\n",
       "      <td>5130</td>\n",
       "    </tr>\n",
       "    <tr>\n",
       "      <th>8</th>\n",
       "      <td>07:00 - 08:00</td>\n",
       "      <td>5076</td>\n",
       "    </tr>\n",
       "    <tr>\n",
       "      <th>9</th>\n",
       "      <td>11:00 - 12:00</td>\n",
       "      <td>5044</td>\n",
       "    </tr>\n",
       "    <tr>\n",
       "      <th>10</th>\n",
       "      <td>06:00 - 07:00</td>\n",
       "      <td>4896</td>\n",
       "    </tr>\n",
       "    <tr>\n",
       "      <th>11</th>\n",
       "      <td>05:00 - 06:00</td>\n",
       "      <td>4834</td>\n",
       "    </tr>\n",
       "  </tbody>\n",
       "</table>\n",
       "</div>"
      ],
      "text/plain": [
       "   hourly_slot_12hr  Order_id\n",
       "0     12:00 - 01:00     11260\n",
       "1     01:00 - 02:00      9652\n",
       "2     02:00 - 03:00      8936\n",
       "3     10:00 - 11:00      7368\n",
       "4     03:00 - 04:00      7168\n",
       "5     04:00 - 05:00      5882\n",
       "6     09:00 - 10:00      5822\n",
       "7     08:00 - 09:00      5130\n",
       "8     07:00 - 08:00      5076\n",
       "9     11:00 - 12:00      5044\n",
       "10    06:00 - 07:00      4896\n",
       "11    05:00 - 06:00      4834"
      ]
     },
     "execution_count": 120,
     "metadata": {},
     "output_type": "execute_result"
    }
   ],
   "source": [
    "df10"
   ]
  },
  {
   "cell_type": "code",
   "execution_count": 121,
   "id": "d966ae3d",
   "metadata": {},
   "outputs": [
    {
     "data": {
      "text/plain": [
       "([0, 1, 2, 3, 4, 5, 6, 7, 8, 9, 10, 11],\n",
       " [Text(0, 0, ''),\n",
       "  Text(0, 0, ''),\n",
       "  Text(0, 0, ''),\n",
       "  Text(0, 0, ''),\n",
       "  Text(0, 0, ''),\n",
       "  Text(0, 0, ''),\n",
       "  Text(0, 0, ''),\n",
       "  Text(0, 0, ''),\n",
       "  Text(0, 0, ''),\n",
       "  Text(0, 0, ''),\n",
       "  Text(0, 0, ''),\n",
       "  Text(0, 0, '')])"
      ]
     },
     "execution_count": 121,
     "metadata": {},
     "output_type": "execute_result"
    },
    {
     "data": {
      "image/png": "[encoded data removed]",
      "text/plain": [
       "<Figure size 1000x600 with 1 Axes>"
      ]
     },
     "metadata": {},
     "output_type": "display_data"
    }
   ],
   "source": [
    "fig,ax=plt.subplots(figsize=(10,6))\n",
    "bar_container=ax.bar(df10['hourly_slot_12hr'],df10['Order_id'])\n",
    "ax.set(ylabel='No of orders',xlabel='Time slots',title='Peak hourly slot anaysis by number of orders')\n",
    "ax.bar_label(bar_container)\n",
    "plt.xticks(rotation=75)"
   ]
  },
  {
   "cell_type": "markdown",
   "id": "f6753138",
   "metadata": {},
   "source": [
    "# No missing values in the data"
   ]
  },
  {
   "cell_type": "markdown",
   "id": "3903e81e",
   "metadata": {},
   "source": [
    "# Checking for outliers in data"
   ]
  },
  {
   "cell_type": "code",
   "execution_count": null,
   "id": "2b419890",
   "metadata": {},
   "outputs": [],
   "source": [
    "#create a function to find outliers using IQR\n",
    "\n",
    "def find_outliers_IQR(df):\n",
    "\n",
    "    q1=df.quantile(0.25)\n",
    "\n",
    "    q3=df.quantile(0.75)\n",
    "\n",
    "    IQR=q3-q1\n",
    "\n",
    "    outliers = df[((df<(q1-1.5*IQR)) | (df>(q3+1.5*IQR)))]\n",
    "    sns.boxplot(df)\n",
    "\n",
    "    return outliers\n",
    "\n",
    "\n",
    "\n",
    "outliers = find_outliers_IQR(df[' Model'])\n",
    "\n",
    "print('number of outliers: '+ str(len(outliers)))\n",
    "\n",
    "print('max outlier value: '+ str(outliers.max()))\n",
    "\n",
    "print('min outlier value: '+ str(outliers.min()))"
   ]
  },
  {
   "cell_type": "code",
   "execution_count": null,
   "id": "0dbb1708",
   "metadata": {},
   "outputs": [],
   "source": []
  }
 ],
 "metadata": {
  "kernelspec": {
   "display_name": "Python 3 (ipykernel)",
   "language": "python",
   "name": "python3"
  },
  "language_info": {
   "codemirror_mode": {
    "name": "ipython",
    "version": 3
   },
   "file_extension": ".py",
   "mimetype": "text/x-python",
   "name": "python",
   "nbconvert_exporter": "python",
   "pygments_lexer": "ipython3",
   "version": "3.9.13"
  }
 },
 "nbformat": 4,
 "nbformat_minor": 5
}
